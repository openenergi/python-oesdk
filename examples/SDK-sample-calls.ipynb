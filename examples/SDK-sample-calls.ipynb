{
 "cells": [
  {
   "cell_type": "markdown",
   "metadata": {},
   "source": [
    "# **Open Energi SDK**\n",
    "\n",
    "This SDK can be used to interact with the Open Energi API. \n",
    "\n",
    "- An **Entity Code** is the unique identifier that Open Energi assigns to an asset e.g. `l1234`.\n",
    "- Time based filters (start / end) can be in any format e.g.:\n",
    "  - Python `datetime.datetime`\n",
    "  - Pandas `pd.Timestamp`\n",
    "  - Strings `YYYY-MM-DD HH:mm:ss.SSS` (with or without time-zones, `Z` suffix, etc.)\n",
    "- The term **metric** usually refers to **default/active profiles** e.g. `cd-power-target` (see below).\n",
    "- The term **variable** usually refers to **raw/resampled readings** e.g. `active-power` (see below)."
   ]
  },
  {
   "cell_type": "code",
   "execution_count": 1,
   "metadata": {},
   "outputs": [],
   "source": [
    "import os\n",
    "import datetime\n",
    "import json\n",
    "import pandas as pd\n",
    "from oesdk.demand_profiles import DemandApi\n",
    "from oesdk.entity import EntityApi\n",
    "from oesdk.historical_timeseries import HistoricalApi\n",
    "\n",
    "pd.options.mode.chained_assignment = None\n",
    "\n",
    "username = os.environ['OE_USERNAME']\n",
    "password = os.environ['OE_PASSWORD']\n",
    "\n",
    "entity_code = \"l4662\""
   ]
  },
  {
   "cell_type": "markdown",
   "metadata": {},
   "source": [
    "# **Entity API**\n",
    "\n",
    "This can be used for a given entity code to describe:\n",
    "- the entity details\n",
    "- the **asset hierarchy**"
   ]
  },
  {
   "cell_type": "code",
   "execution_count": 2,
   "metadata": {},
   "outputs": [],
   "source": [
    "entityApi = EntityApi(username, password)"
   ]
  },
  {
   "cell_type": "markdown",
   "metadata": {},
   "source": [
    "## Describe the details for a given entity code"
   ]
  },
  {
   "cell_type": "code",
   "execution_count": 3,
   "metadata": {},
   "outputs": [
    {
     "name": "stdout",
     "output_type": "stream",
     "text": [
      "These are the retrieved entity details:\n",
      " {\n",
      "    \"code\": \"l4662\",\n",
      "    \"type\": \"L\",\n",
      "    \"name\": \"SDK dummy load\",\n",
      "    \"asset_parent\": \"d993\",\n",
      "    \"service_parent\": null,\n",
      "    \"has_asset_children\": false,\n",
      "    \"has_service_children\": false,\n",
      "    \"updated_at\": \"2019-12-06T10:56:04.0869095Z\",\n",
      "    \"updated_by\": \"bot@openenergi.com\",\n",
      "    \"tags\": [\n",
      "        {\n",
      "            \"key\": \"em-mode\",\n",
      "            \"value\": \"cd-mode\",\n",
      "            \"updated_at\": \"2022-01-11T10:04:34.526698Z\",\n",
      "            \"updated_by\": \"api-tests@openenergi.com\",\n",
      "            \"inherited\": false\n",
      "        }\n",
      "    ]\n",
      "}\n"
     ]
    }
   ],
   "source": [
    "e_dict = entityApi.entityDetailsAsDict(entity_code)\n",
    "\n",
    "print(\"These are the retrieved entity details:\\n\", json.dumps(e_dict, indent=4))"
   ]
  },
  {
   "cell_type": "code",
   "execution_count": 4,
   "metadata": {},
   "outputs": [],
   "source": [
    "assert e_dict['code'] == 'l4662', 'The expected entity code is not present'"
   ]
  },
  {
   "cell_type": "markdown",
   "metadata": {},
   "source": [
    "## Describe an entity and its ancestors"
   ]
  },
  {
   "cell_type": "code",
   "execution_count": 5,
   "metadata": {},
   "outputs": [
    {
     "name": "stdout",
     "output_type": "stream",
     "text": [
      "This is the hierarchy breakdown from the entity code:\n",
      " {\n",
      "    \"EntityName\": \"SDK dummy load\",\n",
      "    \"EntityIpAddress\": \"\",\n",
      "    \"ParentEntityCode\": \"d993\",\n",
      "    \"ParentName\": \"SDK dummy device\",\n",
      "    \"GrandParentEntityCode\": \"s535\",\n",
      "    \"GrandParentName\": \"SDK dummy site\"\n",
      "}\n"
     ]
    }
   ],
   "source": [
    "eh_dict = entityApi.explainHierarchy(entity_code)\n",
    "\n",
    "print(\"This is the hierarchy breakdown from the entity code:\\n\", json.dumps(eh_dict, indent=4))"
   ]
  },
  {
   "cell_type": "code",
   "execution_count": 6,
   "metadata": {},
   "outputs": [],
   "source": [
    "assert eh_dict['EntityName'] == 'SDK dummy load', 'The expected entity hierarchy is not present'"
   ]
  },
  {
   "cell_type": "markdown",
   "metadata": {},
   "source": [
    "# **Demand profiles API**\n",
    "\n",
    "There are 2 different type of profiles:\n",
    "\n",
    "- **active** profiles belong to a specific date `YYYY-MM-DD`\n",
    "- **default** profiles belong to a specific ISO Week Day ID (Monday=1 to Sunday=7)\n",
    "\n",
    "For a given day the **active** profile has **higher priority** than the **default** profile. "
   ]
  },
  {
   "cell_type": "code",
   "execution_count": 7,
   "metadata": {},
   "outputs": [],
   "source": [
    "demandApi = DemandApi(username, password)"
   ]
  },
  {
   "cell_type": "markdown",
   "metadata": {},
   "source": [
    "## Retrieve an active profile"
   ]
  },
  {
   "cell_type": "code",
   "execution_count": 8,
   "metadata": {},
   "outputs": [
    {
     "data": {
      "text/html": [
       "<div>\n",
       "<style scoped>\n",
       "    .dataframe tbody tr th:only-of-type {\n",
       "        vertical-align: middle;\n",
       "    }\n",
       "\n",
       "    .dataframe tbody tr th {\n",
       "        vertical-align: top;\n",
       "    }\n",
       "\n",
       "    .dataframe thead th {\n",
       "        text-align: right;\n",
       "    }\n",
       "</style>\n",
       "<table border=\"1\" class=\"dataframe\">\n",
       "  <thead>\n",
       "    <tr style=\"text-align: right;\">\n",
       "      <th></th>\n",
       "      <th>HalfhourStart</th>\n",
       "      <th>profile_id</th>\n",
       "      <th>entity_code</th>\n",
       "      <th>target_date</th>\n",
       "      <th>cd-power-target</th>\n",
       "      <th>Date</th>\n",
       "      <th>Timestamp</th>\n",
       "      <th>SettlementPeriod</th>\n",
       "    </tr>\n",
       "  </thead>\n",
       "  <tbody>\n",
       "    <tr>\n",
       "      <th>0</th>\n",
       "      <td>1</td>\n",
       "      <td>4937</td>\n",
       "      <td>l4662</td>\n",
       "      <td>2019-12-01</td>\n",
       "      <td>1292.466654</td>\n",
       "      <td>2019-12-01</td>\n",
       "      <td>2019-12-01 00:00:00</td>\n",
       "      <td>1</td>\n",
       "    </tr>\n",
       "    <tr>\n",
       "      <th>1</th>\n",
       "      <td>2</td>\n",
       "      <td>4937</td>\n",
       "      <td>l4662</td>\n",
       "      <td>2019-12-01</td>\n",
       "      <td>1290.711337</td>\n",
       "      <td>2019-12-01</td>\n",
       "      <td>2019-12-01 00:30:00</td>\n",
       "      <td>2</td>\n",
       "    </tr>\n",
       "    <tr>\n",
       "      <th>2</th>\n",
       "      <td>3</td>\n",
       "      <td>4937</td>\n",
       "      <td>l4662</td>\n",
       "      <td>2019-12-01</td>\n",
       "      <td>1143.750920</td>\n",
       "      <td>2019-12-01</td>\n",
       "      <td>2019-12-01 01:00:00</td>\n",
       "      <td>3</td>\n",
       "    </tr>\n",
       "    <tr>\n",
       "      <th>3</th>\n",
       "      <td>4</td>\n",
       "      <td>4937</td>\n",
       "      <td>l4662</td>\n",
       "      <td>2019-12-01</td>\n",
       "      <td>1152.255688</td>\n",
       "      <td>2019-12-01</td>\n",
       "      <td>2019-12-01 01:30:00</td>\n",
       "      <td>4</td>\n",
       "    </tr>\n",
       "    <tr>\n",
       "      <th>4</th>\n",
       "      <td>5</td>\n",
       "      <td>4937</td>\n",
       "      <td>l4662</td>\n",
       "      <td>2019-12-01</td>\n",
       "      <td>1220.345264</td>\n",
       "      <td>2019-12-01</td>\n",
       "      <td>2019-12-01 02:00:00</td>\n",
       "      <td>5</td>\n",
       "    </tr>\n",
       "  </tbody>\n",
       "</table>\n",
       "</div>"
      ],
      "text/plain": [
       "   HalfhourStart  profile_id entity_code target_date  cd-power-target  \\\n",
       "0              1        4937       l4662  2019-12-01      1292.466654   \n",
       "1              2        4937       l4662  2019-12-01      1290.711337   \n",
       "2              3        4937       l4662  2019-12-01      1143.750920   \n",
       "3              4        4937       l4662  2019-12-01      1152.255688   \n",
       "4              5        4937       l4662  2019-12-01      1220.345264   \n",
       "\n",
       "         Date           Timestamp  SettlementPeriod  \n",
       "0  2019-12-01 2019-12-01 00:00:00                 1  \n",
       "1  2019-12-01 2019-12-01 00:30:00                 2  \n",
       "2  2019-12-01 2019-12-01 01:00:00                 3  \n",
       "3  2019-12-01 2019-12-01 01:30:00                 4  \n",
       "4  2019-12-01 2019-12-01 02:00:00                 5  "
      ]
     },
     "execution_count": 8,
     "metadata": {},
     "output_type": "execute_result"
    }
   ],
   "source": [
    "target_date_str = datetime.datetime(2019, 12, 1).strftime(\"%Y-%m-%d\")\n",
    "retrieved_ap_df = demandApi.getActiveProfile(entity_code, target_date_str)\n",
    "\n",
    "retrieved_ap_df.head()"
   ]
  },
  {f
   "cell_type": "code",
   "execution_count": 9,
   "metadata": {},
   "outputs": [],
   "source": [
    "assert len(retrieved_ap_df) >= 0 and len(retrieved_ap_df) <= 48, 'The active profile does not have the expected length'"
   ]
  },
  {
   "cell_type": "markdown",
   "metadata": {},
   "source": [
    "## Upsert an active profile\n",
    "\n",
    "The dataframes:\n",
    "\n",
    "- must have these columns: `Timestamp`, `HalfhourStart`\n",
    "- they can have extra columns for the metrics e.g. `cd-power-target`"
   ]
  },
  {
   "cell_type": "code",
   "execution_count": 10,
   "metadata": {},
   "outputs": [
    {
     "data": {
      "text/html": [
       "<div>\n",
       "<style scoped>\n",
       "    .dataframe tbody tr th:only-of-type {\n",
       "        vertical-align: middle;\n",
       "    }\n",
       "\n",
       "    .dataframe tbody tr th {\n",
       "        vertical-align: top;\n",
       "    }\n",
       "\n",
       "    .dataframe thead th {\n",
       "        text-align: right;\n",
       "    }\n",
       "</style>\n",
       "<table border=\"1\" class=\"dataframe\">\n",
       "  <thead>\n",
       "    <tr style=\"text-align: right;\">\n",
       "      <th></th>\n",
       "      <th>Timestamp</th>\n",
       "      <th>HalfhourStart</th>\n",
       "      <th>cd-power-target</th>\n",
       "    </tr>\n",
       "  </thead>\n",
       "  <tbody>\n",
       "    <tr>\n",
       "      <th>0</th>\n",
       "      <td>2019-12-01 00:00:00</td>\n",
       "      <td>1</td>\n",
       "      <td>1292.466654</td>\n",
       "    </tr>\n",
       "    <tr>\n",
       "      <th>1</th>\n",
       "      <td>2019-12-01 00:30:00</td>\n",
       "      <td>2</td>\n",
       "      <td>1290.711337</td>\n",
       "    </tr>\n",
       "    <tr>\n",
       "      <th>2</th>\n",
       "      <td>2019-12-01 01:00:00</td>\n",
       "      <td>3</td>\n",
       "      <td>1143.750920</td>\n",
       "    </tr>\n",
       "    <tr>\n",
       "      <th>3</th>\n",
       "      <td>2019-12-01 01:30:00</td>\n",
       "      <td>4</td>\n",
       "      <td>1152.255688</td>\n",
       "    </tr>\n",
       "    <tr>\n",
       "      <th>4</th>\n",
       "      <td>2019-12-01 02:00:00</td>\n",
       "      <td>5</td>\n",
       "      <td>1220.345264</td>\n",
       "    </tr>\n",
       "  </tbody>\n",
       "</table>\n",
       "</div>"
      ],
      "text/plain": [
       "            Timestamp  HalfhourStart  cd-power-target\n",
       "0 2019-12-01 00:00:00              1      1292.466654\n",
       "1 2019-12-01 00:30:00              2      1290.711337\n",
       "2 2019-12-01 01:00:00              3      1143.750920\n",
       "3 2019-12-01 01:30:00              4      1152.255688\n",
       "4 2019-12-01 02:00:00              5      1220.345264"
      ]
     },
     "execution_count": 10,
     "metadata": {},
     "output_type": "execute_result"
    }
   ],
   "source": [
    "ap_df_to_upsert = retrieved_ap_df[['Timestamp', 'HalfhourStart', 'cd-power-target']]\n",
    "ap_df_to_upsert.head()"
   ]
  },
  {
   "cell_type": "code",
   "execution_count": 11,
   "metadata": {},
   "outputs": [
    {
     "name": "stdout",
     "output_type": "stream",
     "text": [
      "The profile ID for the updated ACTIVE profile is: 4937\n"
     ]
    }
   ],
   "source": [
    "upsertedActiveProfileId = demandApi.upsertActiveProfile(\n",
    "    entityCode=entity_code, \n",
    "    inDf=ap_df_to_upsert,\n",
    "    targetDateStr=ap_df_to_upsert.iloc[0]['Timestamp'].strftime(\"%Y-%m-%d\") # '2019-12-01'\n",
    ")\n",
    "print(\"The profile ID for the updated ACTIVE profile is:\", upsertedActiveProfileId)"
   ]
  },
  {
   "cell_type": "markdown",
   "metadata": {},
   "source": [
    "### Upsert profiles across multiple days\n",
    "\n",
    "We can upsert **active** profiles across multiple days. \n",
    "The Pandas dataframe can contain extra slices of data according to the columns `Timestamp` and `HalfhourStart`."
   ]
  },
  {
   "cell_type": "code",
   "execution_count": 12,
   "metadata": {},
   "outputs": [
    {
     "name": "stdout",
     "output_type": "stream",
     "text": [
      "The list of ACTIVE profile IDs is: [4937]\n"
     ]
    }
   ],
   "source": [
    "listOfProfileIDs = demandApi.upsertActiveProfiles(\n",
    "    entityCode=entity_code, \n",
    "    inDf=ap_df_to_upsert,\n",
    ")\n",
    "print(\"The list of ACTIVE profile IDs is:\", listOfProfileIDs)"
   ]
  },
  {
   "cell_type": "markdown",
   "metadata": {},
   "source": [
    "## Retrieve a default profile"
   ]
  },
  {
   "cell_type": "code",
   "execution_count": 13,
   "metadata": {},
   "outputs": [
    {
     "name": "stdout",
     "output_type": "stream",
     "text": [
      "On '2019-12-01' the ISO week day ID is a Sunday: 7\n"
     ]
    }
   ],
   "source": [
    "iso_weekday_id = datetime.datetime(2019, 12, 1).isoweekday() # this should be \"7\"\n",
    "print(\"On '2019-12-01' the ISO week day ID is a Sunday:\", iso_weekday_id)"
   ]
  },
  {
   "cell_type": "code",
   "execution_count": 14,
   "metadata": {},
   "outputs": [
    {
     "data": {
      "text/html": [
       "<div>\n",
       "<style scoped>\n",
       "    .dataframe tbody tr th:only-of-type {\n",
       "        vertical-align: middle;\n",
       "    }\n",
       "\n",
       "    .dataframe tbody tr th {\n",
       "        vertical-align: top;\n",
       "    }\n",
       "\n",
       "    .dataframe thead th {\n",
       "        text-align: right;\n",
       "    }\n",
       "</style>\n",
       "<table border=\"1\" class=\"dataframe\">\n",
       "  <thead>\n",
       "    <tr style=\"text-align: right;\">\n",
       "      <th></th>\n",
       "      <th>HalfhourStart</th>\n",
       "      <th>default_profile_id</th>\n",
       "      <th>profile_id</th>\n",
       "      <th>entity_code</th>\n",
       "      <th>week_day_id</th>\n",
       "      <th>cd-power-target</th>\n",
       "    </tr>\n",
       "  </thead>\n",
       "  <tbody>\n",
       "    <tr>\n",
       "      <th>0</th>\n",
       "      <td>1</td>\n",
       "      <td>569</td>\n",
       "      <td>4938</td>\n",
       "      <td>l4662</td>\n",
       "      <td>7</td>\n",
       "      <td>1292.466654</td>\n",
       "    </tr>\n",
       "    <tr>\n",
       "      <th>1</th>\n",
       "      <td>2</td>\n",
       "      <td>569</td>\n",
       "      <td>4938</td>\n",
       "      <td>l4662</td>\n",
       "      <td>7</td>\n",
       "      <td>1290.711337</td>\n",
       "    </tr>\n",
       "    <tr>\n",
       "      <th>2</th>\n",
       "      <td>3</td>\n",
       "      <td>569</td>\n",
       "      <td>4938</td>\n",
       "      <td>l4662</td>\n",
       "      <td>7</td>\n",
       "      <td>1143.750920</td>\n",
       "    </tr>\n",
       "    <tr>\n",
       "      <th>3</th>\n",
       "      <td>4</td>\n",
       "      <td>569</td>\n",
       "      <td>4938</td>\n",
       "      <td>l4662</td>\n",
       "      <td>7</td>\n",
       "      <td>1152.255688</td>\n",
       "    </tr>\n",
       "    <tr>\n",
       "      <th>4</th>\n",
       "      <td>5</td>\n",
       "      <td>569</td>\n",
       "      <td>4938</td>\n",
       "      <td>l4662</td>\n",
       "      <td>7</td>\n",
       "      <td>1220.345264</td>\n",
       "    </tr>\n",
       "  </tbody>\n",
       "</table>\n",
       "</div>"
      ],
      "text/plain": [
       "   HalfhourStart  default_profile_id  profile_id entity_code  week_day_id  \\\n",
       "0              1                 569        4938       l4662            7   \n",
       "1              2                 569        4938       l4662            7   \n",
       "2              3                 569        4938       l4662            7   \n",
       "3              4                 569        4938       l4662            7   \n",
       "4              5                 569        4938       l4662            7   \n",
       "\n",
       "   cd-power-target  \n",
       "0      1292.466654  \n",
       "1      1290.711337  \n",
       "2      1143.750920  \n",
       "3      1152.255688  \n",
       "4      1220.345264  "
      ]
     },
     "execution_count": 14,
     "metadata": {},
     "output_type": "execute_result"
    }
   ],
   "source": [
    "retrieved_dp_df = demandApi.getDefaultProfile(entity_code, iso_weekday_id)\n",
    "retrieved_dp_df.head()"
   ]
  },
  {
   "cell_type": "code",
   "execution_count": 15,
   "metadata": {},
   "outputs": [],
   "source": [
    "assert len(retrieved_dp_df) >= 0 and len(retrieved_dp_df) <= 48, 'The default profile does not have the expected length'"
   ]
  },
  {
   "cell_type": "markdown",
   "metadata": {},
   "source": [
    "## Upsert a default profile"
   ]
  },
  {
   "cell_type": "code",
   "execution_count": 16,
   "metadata": {},
   "outputs": [
    {
     "data": {
      "text/html": [
       "<div>\n",
       "<style scoped>\n",
       "    .dataframe tbody tr th:only-of-type {\n",
       "        vertical-align: middle;\n",
       "    }\n",
       "\n",
       "    .dataframe tbody tr th {\n",
       "        vertical-align: top;\n",
       "    }\n",
       "\n",
       "    .dataframe thead th {\n",
       "        text-align: right;\n",
       "    }\n",
       "</style>\n",
       "<table border=\"1\" class=\"dataframe\">\n",
       "  <thead>\n",
       "    <tr style=\"text-align: right;\">\n",
       "      <th></th>\n",
       "      <th>HalfhourStart</th>\n",
       "      <th>cd-power-target</th>\n",
       "    </tr>\n",
       "  </thead>\n",
       "  <tbody>\n",
       "    <tr>\n",
       "      <th>0</th>\n",
       "      <td>1</td>\n",
       "      <td>1292.466654</td>\n",
       "    </tr>\n",
       "    <tr>\n",
       "      <th>1</th>\n",
       "      <td>2</td>\n",
       "      <td>1290.711337</td>\n",
       "    </tr>\n",
       "    <tr>\n",
       "      <th>2</th>\n",
       "      <td>3</td>\n",
       "      <td>1143.750920</td>\n",
       "    </tr>\n",
       "    <tr>\n",
       "      <th>3</th>\n",
       "      <td>4</td>\n",
       "      <td>1152.255688</td>\n",
       "    </tr>\n",
       "    <tr>\n",
       "      <th>4</th>\n",
       "      <td>5</td>\n",
       "      <td>1220.345264</td>\n",
       "    </tr>\n",
       "  </tbody>\n",
       "</table>\n",
       "</div>"
      ],
      "text/plain": [
       "   HalfhourStart  cd-power-target\n",
       "0              1      1292.466654\n",
       "1              2      1290.711337\n",
       "2              3      1143.750920\n",
       "3              4      1152.255688\n",
       "4              5      1220.345264"
      ]
     },
     "execution_count": 16,
     "metadata": {},
     "output_type": "execute_result"
    }
   ],
   "source": [
    "dp_df_to_upsert=retrieved_dp_df[['HalfhourStart', 'cd-power-target']]\n",
    "dp_df_to_upsert.head()"
   ]
  },
  {
   "cell_type": "code",
   "execution_count": 17,
   "metadata": {},
   "outputs": [
    {
     "name": "stdout",
     "output_type": "stream",
     "text": [
      "The profile ID for the updated DEFAULT profile is: 569\n"
     ]
    }
   ],
   "source": [
    "upsertedDefaultProfileId = demandApi.upsertDefaultProfile(\n",
    "    entityCode=entity_code, \n",
    "    inDf=dp_df_to_upsert, \n",
    "    weekDayId=iso_weekday_id\n",
    ")\n",
    "print(\"The profile ID for the updated DEFAULT profile is:\", upsertedDefaultProfileId)"
   ]
  },
  {
   "cell_type": "markdown",
   "metadata": {},
   "source": [
    "# **Historical API**\n",
    "\n",
    "This can be used to retrieve readings for a given asset.\n",
    "\n",
    "Readings can be:\n",
    "\n",
    "- resampled\n",
    "- raw"
   ]
  },
  {
   "cell_type": "code",
   "execution_count": 18,
   "metadata": {},
   "outputs": [],
   "source": [
    "historicalApi = HistoricalApi(username, password)\n",
    "\n",
    "power_variable = 'active-power'"
   ]
  },
  {
   "cell_type": "markdown",
   "metadata": {},
   "source": [
    "## Raw readings"
   ]
  },
  {
   "cell_type": "code",
   "execution_count": 22,
   "metadata": {},
   "outputs": [
    {
     "name": "stdout",
     "output_type": "stream",
     "text": [
      "Retrieved 32 raw readings\n"
     ]
    }
   ],
   "source": [
    "start_raw_readings = '2021-12-01 10:00:00'\n",
    "end_raw_readings = pd.Timestamp('2021-12-01 10:01:00')\n",
    "\n",
    "raw_readings_df = historicalApi.getRawReadings(\n",
    "    start_raw_readings,\n",
    "    end_raw_readings,\n",
    "    variable=power_variable,\n",
    "    entity_code='L2510'\n",
    ")\n",
    "\n",
    "print(\"Retrieved {} raw readings\".format(len(raw_readings_df)))"
   ]
  },
  {
   "cell_type": "code",
   "execution_count": 24,
   "metadata": {},
   "outputs": [
    {
     "data": {
      "text/html": [
       "<div>\n",
       "<style scoped>\n",
       "    .dataframe tbody tr th:only-of-type {\n",
       "        vertical-align: middle;\n",
       "    }\n",
       "\n",
       "    .dataframe tbody tr th {\n",
       "        vertical-align: top;\n",
       "    }\n",
       "\n",
       "    .dataframe thead th {\n",
       "        text-align: right;\n",
       "    }\n",
       "</style>\n",
       "<table border=\"1\" class=\"dataframe\">\n",
       "  <thead>\n",
       "    <tr style=\"text-align: right;\">\n",
       "      <th></th>\n",
       "      <th>EntityCode</th>\n",
       "      <th>Time</th>\n",
       "      <th>Type</th>\n",
       "      <th>active-power</th>\n",
       "    </tr>\n",
       "    <tr>\n",
       "      <th>time</th>\n",
       "      <th></th>\n",
       "      <th></th>\n",
       "      <th></th>\n",
       "      <th></th>\n",
       "    </tr>\n",
       "  </thead>\n",
       "  <tbody>\n",
       "    <tr>\n",
       "      <th>2021-12-01 10:00:00.078000+00:00</th>\n",
       "      <td>L2510</td>\n",
       "      <td>2021-12-01 10:00:00.078000+00:00</td>\n",
       "      <td>raw</td>\n",
       "      <td>12.873000</td>\n",
       "    </tr>\n",
       "    <tr>\n",
       "      <th>2021-12-01 10:00:00.577000+00:00</th>\n",
       "      <td>L2510</td>\n",
       "      <td>2021-12-01 10:00:00.577000+00:00</td>\n",
       "      <td>raw</td>\n",
       "      <td>15.735000</td>\n",
       "    </tr>\n",
       "    <tr>\n",
       "      <th>2021-12-01 10:00:01.139000+00:00</th>\n",
       "      <td>L2510</td>\n",
       "      <td>2021-12-01 10:00:01.139000+00:00</td>\n",
       "      <td>raw</td>\n",
       "      <td>19.399000</td>\n",
       "    </tr>\n",
       "    <tr>\n",
       "      <th>2021-12-01 10:00:01.591000+00:00</th>\n",
       "      <td>L2510</td>\n",
       "      <td>2021-12-01 10:00:01.591000+00:00</td>\n",
       "      <td>raw</td>\n",
       "      <td>20.853001</td>\n",
       "    </tr>\n",
       "    <tr>\n",
       "      <th>2021-12-01 10:00:02.117000+00:00</th>\n",
       "      <td>L2510</td>\n",
       "      <td>2021-12-01 10:00:02.117000+00:00</td>\n",
       "      <td>raw</td>\n",
       "      <td>19.525999</td>\n",
       "    </tr>\n",
       "  </tbody>\n",
       "</table>\n",
       "</div>"
      ],
      "text/plain": [
       "                                 EntityCode                             Time  \\\n",
       "time                                                                           \n",
       "2021-12-01 10:00:00.078000+00:00      L2510 2021-12-01 10:00:00.078000+00:00   \n",
       "2021-12-01 10:00:00.577000+00:00      L2510 2021-12-01 10:00:00.577000+00:00   \n",
       "2021-12-01 10:00:01.139000+00:00      L2510 2021-12-01 10:00:01.139000+00:00   \n",
       "2021-12-01 10:00:01.591000+00:00      L2510 2021-12-01 10:00:01.591000+00:00   \n",
       "2021-12-01 10:00:02.117000+00:00      L2510 2021-12-01 10:00:02.117000+00:00   \n",
       "\n",
       "                                 Type  active-power  \n",
       "time                                                 \n",
       "2021-12-01 10:00:00.078000+00:00  raw     12.873000  \n",
       "2021-12-01 10:00:00.577000+00:00  raw     15.735000  \n",
       "2021-12-01 10:00:01.139000+00:00  raw     19.399000  \n",
       "2021-12-01 10:00:01.591000+00:00  raw     20.853001  \n",
       "2021-12-01 10:00:02.117000+00:00  raw     19.525999  "
      ]
     },
     "execution_count": 24,
     "metadata": {},
     "output_type": "execute_result"
    }
   ],
   "source": [
    "raw_readings_df.head()"
   ]
  },
  {
   "cell_type": "code",
   "execution_count": 25,
   "metadata": {},
   "outputs": [],
   "source": [
    "assert len(raw_readings_df) == 32, 'The raw readings do not have the expected length'"
   ]
  },
  {
   "cell_type": "markdown",
   "metadata": {},
   "source": [
    "## Resampled readings"
   ]
  },
  {
   "cell_type": "code",
   "execution_count": 26,
   "metadata": {},
   "outputs": [
    {
     "name": "stdout",
     "output_type": "stream",
     "text": [
      "Retrieved 3 resampled readings\n"
     ]
    }
   ],
   "source": [
    "start_resampled = '2019-12-01 15:00' # this works as well\n",
    "end_resampled = '2019-12-01 16:01' # this works as well\n",
    "\n",
    "resampled_readings_df = historicalApi.getResampledReadings(\n",
    "    start_resampled,\n",
    "    end_resampled,\n",
    "    variable=power_variable,\n",
    "    entity_code=entity_code\n",
    ")\n",
    "\n",
    "print(\"Retrieved {} resampled readings\".format(len(resampled_readings_df)))"
   ]
  },
  {
   "cell_type": "code",
   "execution_count": 27,
   "metadata": {},
   "outputs": [
    {
     "data": {
      "text/html": [
       "<div>\n",
       "<style scoped>\n",
       "    .dataframe tbody tr th:only-of-type {\n",
       "        vertical-align: middle;\n",
       "    }\n",
       "\n",
       "    .dataframe tbody tr th {\n",
       "        vertical-align: top;\n",
       "    }\n",
       "\n",
       "    .dataframe thead th {\n",
       "        text-align: right;\n",
       "    }\n",
       "</style>\n",
       "<table border=\"1\" class=\"dataframe\">\n",
       "  <thead>\n",
       "    <tr style=\"text-align: right;\">\n",
       "      <th></th>\n",
       "      <th>Time</th>\n",
       "      <th>active-power</th>\n",
       "      <th>EntityCode</th>\n",
       "      <th>Type</th>\n",
       "    </tr>\n",
       "  </thead>\n",
       "  <tbody>\n",
       "    <tr>\n",
       "      <th>0</th>\n",
       "      <td>2019-12-01T16:00:00Z</td>\n",
       "      <td>100</td>\n",
       "      <td>l4662</td>\n",
       "      <td>30m-compliance</td>\n",
       "    </tr>\n",
       "    <tr>\n",
       "      <th>1</th>\n",
       "      <td>2019-12-01T15:30:00Z</td>\n",
       "      <td>50</td>\n",
       "      <td>l4662</td>\n",
       "      <td>30m-compliance</td>\n",
       "    </tr>\n",
       "    <tr>\n",
       "      <th>2</th>\n",
       "      <td>2019-12-01T15:00:00Z</td>\n",
       "      <td>10</td>\n",
       "      <td>l4662</td>\n",
       "      <td>30m-compliance</td>\n",
       "    </tr>\n",
       "  </tbody>\n",
       "</table>\n",
       "</div>"
      ],
      "text/plain": [
       "                   Time  active-power EntityCode            Type\n",
       "0  2019-12-01T16:00:00Z           100      l4662  30m-compliance\n",
       "1  2019-12-01T15:30:00Z            50      l4662  30m-compliance\n",
       "2  2019-12-01T15:00:00Z            10      l4662  30m-compliance"
      ]
     },
     "execution_count": 27,
     "metadata": {},
     "output_type": "execute_result"
    }
   ],
   "source": [
    "resampled_readings_df.head()"
   ]
  },
  {
   "cell_type": "code",
   "execution_count": 29,
   "metadata": {},
   "outputs": [],
   "source": [
    "assert len(resampled_readings_df) == 3, 'The resampled readings do not have the expected length'"
   ]
  },
  {
   "cell_type": "code",
   "execution_count": null,
   "metadata": {},
   "outputs": [],
   "source": []
  },
  {
   "cell_type": "code",
   "execution_count": null,
   "metadata": {},
   "outputs": [],
   "source": []
  },
  {
   "cell_type": "code",
   "execution_count": null,
   "metadata": {},
   "outputs": [],
   "source": []
  }
 ],
 "metadata": {
  "kernelspec": {
   "display_name": "Python 3 (ipykernel)",
   "language": "python",
   "name": "python3"
  },
  "language_info": {
   "codemirror_mode": {
    "name": "ipython",
    "version": 3
   },
   "file_extension": ".py",
   "mimetype": "text/x-python",
   "name": "python",
   "nbconvert_exporter": "python",
   "pygments_lexer": "ipython3",
   "version": "3.8.12"
  }
 },
 "nbformat": 4,
 "nbformat_minor": 2
}
